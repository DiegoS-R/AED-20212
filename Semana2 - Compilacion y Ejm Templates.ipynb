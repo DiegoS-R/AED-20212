{
  "nbformat": 4,
  "nbformat_minor": 0,
  "metadata": {
    "colab": {
      "name": "Untitled0.ipynb",
      "provenance": [],
      "authorship_tag": "ABX9TyPYPl7wAzKSw+VXlZp2FCxq",
      "include_colab_link": true
    },
    "kernelspec": {
      "name": "python3",
      "display_name": "Python 3"
    },
    "language_info": {
      "name": "python"
    }
  },
  "cells": [
    {
      "cell_type": "markdown",
      "metadata": {
        "id": "view-in-github",
        "colab_type": "text"
      },
      "source": [
        "<a href=\"https://colab.research.google.com/github/DiegoS-R/AED-20212/blob/main/Semana2%20-%20Compilacion%20y%20Ejm%20Templates.ipynb\" target=\"_parent\"><img src=\"https://colab.research.google.com/assets/colab-badge.svg\" alt=\"Open In Colab\"/></a>"
      ]
    },
    {
      "cell_type": "markdown",
      "metadata": {
        "id": "agRoGY213ZmN"
      },
      "source": [
        "#Temario\n",
        "1. Colab\n",
        "2. Compilacion Manual\n",
        "3. Templates\n",
        "\n",
        "\n",
        "\n"
      ]
    },
    {
      "cell_type": "code",
      "metadata": {
        "colab": {
          "base_uri": "https://localhost:8080/"
        },
        "id": "tl8orLSot41u",
        "outputId": "a11b325b-c9f4-4fec-ba95-5a15ff03b6bb"
      },
      "source": [
        "%%writefile prog1.cpp\n",
        "#include <iostream>\n",
        "using namespace std;\n",
        "\n",
        "int main(){\n",
        "cout << \"UPC\";\n",
        "return 0;\n",
        "}\n"
      ],
      "execution_count": 3,
      "outputs": [
        {
          "output_type": "stream",
          "name": "stdout",
          "text": [
            "Writing prog1.cpp\n"
          ]
        }
      ]
    },
    {
      "cell_type": "code",
      "metadata": {
        "id": "u-v0YPK9v2eS"
      },
      "source": [
        "#Codeando desde colab !Sirve para ejecutar programa en shell\n",
        "!g++ prog1.cpp"
      ],
      "execution_count": 6,
      "outputs": []
    },
    {
      "cell_type": "code",
      "metadata": {
        "colab": {
          "base_uri": "https://localhost:8080/"
        },
        "id": "aZ8pIS22xFB9",
        "outputId": "bfe62841-83f6-4bd0-be36-0d2e3c5126f1"
      },
      "source": [
        "#Ejecutar el programa objeto\n",
        "!./a.out"
      ],
      "execution_count": 11,
      "outputs": [
        {
          "output_type": "stream",
          "name": "stdout",
          "text": [
            "UPC"
          ]
        }
      ]
    },
    {
      "cell_type": "code",
      "metadata": {
        "colab": {
          "base_uri": "https://localhost:8080/"
        },
        "id": "Zsjl32VYxbNL",
        "outputId": "99dc11c1-3ae7-46eb-af39-331fae53d496"
      },
      "source": [
        "!g++ prog1.cpp -o prog1.bin && ./prog1.bin"
      ],
      "execution_count": 12,
      "outputs": [
        {
          "output_type": "stream",
          "name": "stdout",
          "text": [
            "UPC"
          ]
        }
      ]
    },
    {
      "cell_type": "code",
      "metadata": {
        "colab": {
          "base_uri": "https://localhost:8080/"
        },
        "id": "is38ASOy0n0V",
        "outputId": "9ce3337c-1059-497e-e8a5-43321f808cb3"
      },
      "source": [
        "!g++ prog1.cpp && ./a.out"
      ],
      "execution_count": 13,
      "outputs": [
        {
          "output_type": "stream",
          "name": "stdout",
          "text": [
            "UPC"
          ]
        }
      ]
    },
    {
      "cell_type": "code",
      "metadata": {
        "colab": {
          "base_uri": "https://localhost:8080/"
        },
        "id": "yVAADXVZ0sVV",
        "outputId": "f42f0ba1-08b1-4000-b28b-65000d49bc8f"
      },
      "source": [
        "!g++ -std=c++11 prog1.cpp && ./a.out"
      ],
      "execution_count": 14,
      "outputs": [
        {
          "output_type": "stream",
          "name": "stdout",
          "text": [
            "UPC"
          ]
        }
      ]
    },
    {
      "cell_type": "code",
      "metadata": {
        "id": "CO_qXVIr239e"
      },
      "source": [
        "!man -k g++\n"
      ],
      "execution_count": null,
      "outputs": []
    },
    {
      "cell_type": "markdown",
      "metadata": {
        "id": "0sMJnv9T3WYZ"
      },
      "source": [
        "##Templates"
      ]
    },
    {
      "cell_type": "code",
      "metadata": {
        "colab": {
          "base_uri": "https://localhost:8080/"
        },
        "id": "cuw1trfI1-zh",
        "outputId": "81a2f5c5-6b5b-491d-ace4-b3e6c4525d09"
      },
      "source": [
        "%%writefile SinTemplates.cpp\n",
        "typedef unsigned long long ull;\n",
        "\n",
        "class BigNumber{\n",
        "    ull n1;\n",
        "    public:\n",
        "    BigNumber(ull n1=0){\n",
        "        this->n1=n1;\n",
        "    }\n",
        "};\n",
        "\n",
        "class BigNumberF{\n",
        "    float n1;\n",
        "    public:\n",
        "    BigNumberF(float n1=0){\n",
        "        this->n1=n1;\n",
        "    }\n",
        "};\n",
        "\n",
        "class BigNumberD{\n",
        "    double n1;\n",
        "    public:\n",
        "    BigNumberD(double n1=0){\n",
        "        this->n1=n1;\n",
        "    }\n",
        "};\n",
        "\n",
        "int main(){\n",
        "    BigNumber n1;\n",
        "    BigNumberF n2;\n",
        "    BigNumberD n3;\n",
        "    return 0;\n",
        "    \n",
        "}"
      ],
      "execution_count": 17,
      "outputs": [
        {
          "output_type": "stream",
          "name": "stdout",
          "text": [
            "Overwriting SinTemplates.cpp\n"
          ]
        }
      ]
    },
    {
      "cell_type": "code",
      "metadata": {
        "colab": {
          "base_uri": "https://localhost:8080/"
        },
        "id": "UWT7WhZk5YDo",
        "outputId": "b13ad19d-d891-4d2d-de67-591db9be1dda"
      },
      "source": [
        "!g++ -std=c++1z -Wall SinTemplates.cpp -o SinTemplates.bin && ./SinTemplates.bin"
      ],
      "execution_count": 23,
      "outputs": [
        {
          "output_type": "stream",
          "name": "stdout",
          "text": [
            "\u001b[01m\u001b[KSinTemplates.cpp:8:2:\u001b[m\u001b[K \u001b[01;31m\u001b[Kerror: \u001b[m\u001b[Kexpected ‘\u001b[01m\u001b[K;\u001b[m\u001b[K’ after class definition\n",
            " }\n",
            "  \u001b[01;31m\u001b[K^\u001b[m\u001b[K\n",
            "  \u001b[32m\u001b[K;\u001b[m\u001b[K\n"
          ]
        }
      ]
    },
    {
      "cell_type": "code",
      "metadata": {
        "colab": {
          "base_uri": "https://localhost:8080/"
        },
        "id": "y2HtA0sD6sK5",
        "outputId": "21b21ec5-f05b-43dd-8383-8f1da63e065d"
      },
      "source": [
        "%%writefile ConTemplates.cpp\n",
        "typedef unsigned long long ull;\n",
        "template <class Tipo>\n",
        "class BigNumber{\n",
        "    Tipo n1;\n",
        "    Tipo n2;\n",
        "    public:\n",
        "    BigNumber(Tipo n1=0, Tipo n2=0):n1(n1), n2(n2){}\n",
        "};\n",
        "int main(){\n",
        "    BigNumber<ull> n1;\n",
        "    BigNumber<float> n2;\n",
        "    BigNumber<double> n3;\n",
        "    return 0;\n",
        "}"
      ],
      "execution_count": 25,
      "outputs": [
        {
          "output_type": "stream",
          "name": "stdout",
          "text": [
            "Writing ConTemplates.cpp\n"
          ]
        }
      ]
    },
    {
      "cell_type": "code",
      "metadata": {
        "id": "MhlPW3GfJhad",
        "outputId": "d0b48da5-3482-4ac0-9dd0-7265e06d191d",
        "colab": {
          "base_uri": "https://localhost:8080/"
        }
      },
      "source": [
        "!g++ -std=c++1z -Wall ConTemplates.cpp -o ConTemplates.bin && ./ConTemplates.bin"
      ],
      "execution_count": 27,
      "outputs": [
        {
          "metadata": {
            "tags": null
          },
          "name": "stdout",
          "output_type": "stream",
          "text": [
            "\u001b[01m\u001b[KConTemplates.cpp:2:11:\u001b[m\u001b[K \u001b[01;31m\u001b[Kerror: \u001b[m\u001b[K‘\u001b[01m\u001b[KClass\u001b[m\u001b[K’ has not been declared\n",
            " template <\u001b[01;31m\u001b[KClass\u001b[m\u001b[K Tipo>\n",
            "           \u001b[01;31m\u001b[K^~~~~\u001b[m\u001b[K\n",
            "\u001b[01m\u001b[KConTemplates.cpp:4:5:\u001b[m\u001b[K \u001b[01;31m\u001b[Kerror: \u001b[m\u001b[K‘\u001b[01m\u001b[KTipo\u001b[m\u001b[K’ does not name a type\n",
            "     \u001b[01;31m\u001b[KTipo\u001b[m\u001b[K n1;\n",
            "     \u001b[01;31m\u001b[K^~~~\u001b[m\u001b[K\n",
            "\u001b[01m\u001b[KConTemplates.cpp:5:5:\u001b[m\u001b[K \u001b[01;31m\u001b[Kerror: \u001b[m\u001b[K‘\u001b[01m\u001b[KTipo\u001b[m\u001b[K’ does not name a type\n",
            "     \u001b[01;31m\u001b[KTipo\u001b[m\u001b[K n2;\n",
            "     \u001b[01;31m\u001b[K^~~~\u001b[m\u001b[K\n",
            "\u001b[01m\u001b[KConTemplates.cpp:7:2:\u001b[m\u001b[K \u001b[01;31m\u001b[Kerror: \u001b[m\u001b[Kexpected ‘\u001b[01m\u001b[K;\u001b[m\u001b[K’ after class definition\n",
            " }\n",
            "  \u001b[01;31m\u001b[K^\u001b[m\u001b[K\n",
            "  \u001b[32m\u001b[K;\u001b[m\u001b[K\n"
          ]
        }
      ]
    },
    {
      "cell_type": "code",
      "metadata": {
        "id": "KS9jCrNeKCM7"
      },
      "source": [
        ""
      ],
      "execution_count": null,
      "outputs": []
    }
  ]
}